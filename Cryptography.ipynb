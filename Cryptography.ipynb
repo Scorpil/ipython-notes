{
 "cells": [
  {
   "cell_type": "markdown",
   "metadata": {},
   "source": [
    "## Contents\n",
    "\n",
    "| Header | Lecture |\n",
    "|--------|---------|\n",
    "| [Perfect secrecy](#Perfect-secrecy) | Week 1, lecture 6-7 |\n",
    "| [Perfect indistinguishability](#Perfect-indistinguishability) | Week 2, lecture 2 |\n",
    "| [Computational indistinguishability (concrete)](#Computational-indistinguishability-%28concrete%29) | Week 2, lecture 2\n",
    "| [(Re)defining encryption](#%28Re%29defining-encryption) | Week 2, lecture 3\n",
    "| [Computational indistinguishability (asymptotic)](#Computational-indistinguishability-%28asymptotic%29) | Week 2, lecture 3 |\n",
    "| [Uniform distribution](#Uniform-distribution) | Week 2, lecture 4 |\n",
    "| [Pseudorandomness (concrete)](#Pseudorandomness-%28concrete%29) | Week 2, lecture 4 |\n",
    "| [Pseudorandomness (asymptotic)](#Pseudorandomness-%28asymptotic%29) | Week 2, lecture 4 |"
   ]
  },
  {
   "cell_type": "markdown",
   "metadata": {},
   "source": [
    "### Perfect secrecy\n",
    "\n",
    "Encryption scheme $(Gen, Enc, Dec)$ with message space $M$ and ciphertext space $C$ is _perfectly secret_ if for every distribution over $M$, every $m \\in M$, and every $c \\in C$ with $\\Pr\\left[C=c\\right] \\lt 0$, it holds that:\n",
    "\n",
    "$$\\Pr\\left[M=m|C=c\\right] = \\Pr\\left[M=m\\right]$$"
   ]
  },
  {
   "cell_type": "markdown",
   "metadata": {},
   "source": [
    "### Perfect indistinguishability\n",
    "\n",
    "* Let $\\Pi=(Gem, Enc, Dec)$ be an encryption scheme, and $A$ an adversary (eavesdropper).\n",
    "* Define a randomized experiment $PrivK_{A, \\Pi}$:\n",
    "  1. $A$ outputs $m_{0}, m_{1} \\in M$\n",
    "  2. $k \\leftarrow Gen, b \\leftarrow \\{0, 1\\}, c \\leftarrow Enk_{k}(m_{b})$\n",
    "  3. $b' \\leftarrow A(c)$; $A$ _succeeds_ if $b=b'$, and experiment evaluates to 1 in this case.\n",
    "* $\\Pi$ is _perfectly indistinguishable_ if for all attackers $A$, if it holds that:\n",
    "\n",
    "$$\\Pr\\left[PrivK_{A,\\Pi} = 1\\right] = \\frac 1 2$$\n",
    "\n",
    "* __Claim__: $\\Pi$ is perfectly indistinguishable if and only if it is perfectly secret. "
   ]
  },
  {
   "cell_type": "markdown",
   "metadata": {},
   "source": [
    "### Computational indistinguishability (concrete)\n",
    "\n",
    "* $\\Pi$ is $(t, \\varepsilon)$-indistinguishable for attacker if for all attackers $A$ running in time at most $t$, it holds that $\\Pr\\left[PrivK_{A, \\Pi} = 1\\right] \\leq \\frac 1 2 + \\varepsilon$\n",
    "\n",
    "* Problems:\n",
    "  * Does not lead to clean theory\n",
    "  * Security is not adjustable"
   ]
  },
  {
   "cell_type": "markdown",
   "metadata": {},
   "source": [
    "### (Re)defining encryption\n",
    "\n",
    "* A _private-key encryption scheme_ is defined by three PPT algorithms $(Gen, Enc, Dec)$:\n",
    "  * $Gen$: takes $1^n$; outputs key $k$ (assume $\\lvert k \\rvert \\gt n$) \n",
    "  * $Enc$: takes $k$ an message $m \\in \\{0, 1\\}^*$; outputs ciphertext $c$\n",
    "  * $Dec$: takes $k$ and $c$ as input; outputs message $m$ or \"error\"."
   ]
  },
  {
   "cell_type": "markdown",
   "metadata": {},
   "source": [
    "### Computational indistinguishability (asymptotic)\n",
    "\n",
    "* Let $\\Pi=(Gem, Enc, Dec)$ be an encryption scheme, and $A$ an adversary (eavesdropper).\n",
    "* Define a randomized experiment $PrivK_{A, \\Pi}$:\n",
    "  1. $A(1^{n})$ outputs $m_{0}, m_{1} \\in \\{0, 1\\}^*$ of equal length\n",
    "  2. $k \\leftarrow Gen(1^{n}), b \\leftarrow \\{0, 1\\}, c \\leftarrow Enk_{k}(m_{b})$\n",
    "  3. $b' \\leftarrow A(c)$; $A$ _succeeds_ if $b=b'$, and experiment evaluates to 1 in this case.\n",
    "* $\\Pi$ is _indistinguishable_ if for all PPT attackers $A$, there is negligible function $\\varepsilon$ such that:\n",
    "\n",
    "$$\\Pr\\left[PrivK_{A, \\Pi}(n)=1\\right] \\leq \\frac 1 2 + \\varepsilon(n)$$"
   ]
  },
  {
   "cell_type": "markdown",
   "metadata": {},
   "source": [
    "### Uniform distribution\n",
    "\n",
    "* A distribution of $n$-bit strings is a function $D: \\{1, 0\\}^{n} \\rightarrow \\left[0, 1\\right]$ such that $\\sum_{x} D(x) = 1$\n",
    "  * The uniform distribution of $n$-bit strings is the distribution $U_n$ where $U_{n}(x) = 2^{-n}$ for all $x \\in \\{0, 1\\}^n$"
   ]
  },
  {
   "cell_type": "markdown",
   "metadata": {},
   "source": [
    "### Pseudorandomness (concrete)\n",
    "\n",
    "* Let $D$ be a distribution on n-bit strings.\n",
    "* D is $(t, \\varepsilon)$-pseudorandom if for all $A$ running in time $\\leq t$, \n",
    "\n",
    "$$\\lvert\\Pr_{x \\leftarrow D}\\left[A(x)=1\\right] - \\Pr_{x \\leftarrow U_{n}}\\left[A(x)=1\\right]\\rvert \\leq \\varepsilon$$"
   ]
  },
  {
   "cell_type": "markdown",
   "metadata": {},
   "source": [
    "### Pseudorandomness (asymptotic)\n",
    "\n",
    "* Security parameter $n$, polynomal $p$.\n",
    "* Let $D_n$ be a distribution over $p(n)$-bit strings.\n",
    "* Pseudorandomness is a property of a _sequence_ of distributions $\\{D_{n}\\} = \\{D_{1}, D_{2}, ... \\}$\n",
    "* $\\{D_{n}\\}$ is pseudorandom if for every probabalistic, polinomial-time $A$, there is a negligible function $\\varepsilon$ such that:\n",
    "\n",
    "$$\\lvert\\Pr_{x \\leftarrow D_{n}}\\left[A(x)=1\\right] - \\Pr_{x \\leftarrow U_{p(n)}}\\left[A(x)=1\\right]\\rvert \\leq \\varepsilon (n)$$"
   ]
  },
  {
   "cell_type": "markdown",
   "metadata": {
    "collapsed": true
   },
   "source": [
    "### Pseudorandom generator\n",
    "\n",
    "* Pseudorandom generator (PRG) is an efficient, deterministic algorithm that expands a short, uniform seed into a longer, pseudorandom output.\n",
    "\n",
    "\n",
    "* Let $G$ be a deterministic, poly-time algorithm.\n",
    "* $G$ is expanding: $\\lvert G(x) \\rvert = p(\\lvert x \\rvert) > \\lvert x \\rvert$\n",
    "* $G$ defines a sequence of distributions:\n",
    "  * $D_n$ = the distribution on $p(n)$-bit strings defined by choosing $x \\leftarrow U_n$ and outputting $G(x)$\n",
    "  \n",
    "$$\\Pr_{D_n}\\left[y\\right] = \\Pr_{U_n}\\left[G(x) = y\\right] = \\sum_{x:G(x)=y}\\Pr_{U_n}\\left[x\\right] = \\sum_{x:G(x)=y} 2^{-n} = \\frac{\\lvert\\{x:G(x)=y\\}\\rvert} {2^n}$$\n",
    "\n",
    "* $G$ is PRG if  $\\{D_{n}\\}$ is pseudorandom, i.e. for all PPT attackers $A$ there is a negligible function $\\varepsilon$ such that:\n",
    "\n",
    "$$\\lvert \\Pr_{x \\leftarrow U_{n}}\\left[A(G(x))=1\\right] - \\Pr_{y \\leftarrow U_{p(n)}} \\left[A(y)=1\\right] \\rvert \\leq \\varepsilon(n)$$"
   ]
  },
  {
   "cell_type": "markdown",
   "metadata": {},
   "source": [
    "### Pseudo one-time pad\n",
    "\n",
    "* Let $G$ be a deterministic, poly-time algorithm.\n",
    "* $G$ is expanding: $\\lvert G(x) \\rvert = p(\\lvert x \\rvert) > \\lvert x \\rvert$\n",
    "* $Gen(1^n)$: output uniform n-bit key k\n",
    "  * Security parameter $n \\Rightarrow$ message space $\\{0, 1\\}^{p(n)}$\n",
    "* $Enk_{k}(m)$: output $G(k) \\oplus m$\n",
    "* $Dec_{k}(c)$: output $G(k) \\oplus c$"
   ]
  },
  {
   "cell_type": "markdown",
   "metadata": {},
   "source": [
    "### CPA security\n",
    "\n",
    "* Fix $\\Pi, A$\n",
    "* Define randomized experiment $PrivCPA_{A,\\Pi}(n)$:\n",
    "  1. $k \\leftarrow Gen(1^{n})$\n",
    "  2. $A(1^n)$ interacts with an encryption oracle $Enk_{k}(\\cdot)$, and then outputs $m_0, m_1$ of the same length.\n",
    "  3. $b \\leftarrow \\{0, 1\\}, c \\leftarrow Enk_{k}(m_b)$, give $c$ to $A$\n",
    "  4. $A$ can continue to interact with $Enk_{k}(\\cdot)$\n",
    "  5. $A$ outputs $b'$; $A$ succeeds if $b=b'$, and experiment evaluates to 1 in this case"
   ]
  },
  {
   "cell_type": "markdown",
   "metadata": {},
   "source": []
  }
 ],
 "metadata": {
  "kernelspec": {
   "display_name": "Python 2",
   "language": "python",
   "name": "python2"
  },
  "language_info": {
   "codemirror_mode": {
    "name": "ipython",
    "version": 2
   },
   "file_extension": ".py",
   "mimetype": "text/x-python",
   "name": "python",
   "nbconvert_exporter": "python",
   "pygments_lexer": "ipython2",
   "version": "2.7.9"
  }
 },
 "nbformat": 4,
 "nbformat_minor": 0
}
